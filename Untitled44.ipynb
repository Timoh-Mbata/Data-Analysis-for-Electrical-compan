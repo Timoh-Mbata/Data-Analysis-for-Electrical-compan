{
  "nbformat": 4,
  "nbformat_minor": 0,
  "metadata": {
    "colab": {
      "provenance": [],
      "collapsed_sections": [
        "i1YndXqn0aOR",
        "gGbrwgAyaisd",
        "X6pKsiUFbIUQ",
        "9GaHY3ZZqvoY",
        "_IyEVxLgbRWf",
        "nWfgig0vbeQh",
        "vzxskDA_bvnn",
        "N3eXfXiBcYxa",
        "L3xws-H7dfSU",
        "PPUO9HV9d117",
        "n1-VIrGe1Q6h",
        "MVnFVxVS1wby"
      ],
      "toc_visible": true,
      "authorship_tag": "ABX9TyN0ARtiihovWHjudPK8I2eH",
      "include_colab_link": true
    },
    "kernelspec": {
      "name": "python3",
      "display_name": "Python 3"
    },
    "language_info": {
      "name": "python"
    },
    "widgets": {
      "application/vnd.jupyter.widget-state+json": {
        "0b799c745b544ed9aaabcc1c0c43cfca": {
          "model_module": "@jupyter-widgets/controls",
          "model_name": "HBoxModel",
          "model_module_version": "1.5.0",
          "state": {
            "_dom_classes": [],
            "_model_module": "@jupyter-widgets/controls",
            "_model_module_version": "1.5.0",
            "_model_name": "HBoxModel",
            "_view_count": null,
            "_view_module": "@jupyter-widgets/controls",
            "_view_module_version": "1.5.0",
            "_view_name": "HBoxView",
            "box_style": "",
            "children": [
              "IPY_MODEL_b788e06d45c54dad955ac192319c6d49",
              "IPY_MODEL_ddeb1fbe7bef4fd9a07172ad72935ff1",
              "IPY_MODEL_dfa48d5c49474fe48c5764d68cf0c0e9"
            ],
            "layout": "IPY_MODEL_ed9b1aae66d54009b6b70b89245bc991"
          }
        },
        "b788e06d45c54dad955ac192319c6d49": {
          "model_module": "@jupyter-widgets/controls",
          "model_name": "HTMLModel",
          "model_module_version": "1.5.0",
          "state": {
            "_dom_classes": [],
            "_model_module": "@jupyter-widgets/controls",
            "_model_module_version": "1.5.0",
            "_model_name": "HTMLModel",
            "_view_count": null,
            "_view_module": "@jupyter-widgets/controls",
            "_view_module_version": "1.5.0",
            "_view_name": "HTMLView",
            "description": "",
            "description_tooltip": null,
            "layout": "IPY_MODEL_de6f6ae2718846c987df39052f349dfb",
            "placeholder": "​",
            "style": "IPY_MODEL_33bb6f3552fd4c67890e576699ed3d73",
            "value": "Summarize dataset: 100%"
          }
        },
        "ddeb1fbe7bef4fd9a07172ad72935ff1": {
          "model_module": "@jupyter-widgets/controls",
          "model_name": "FloatProgressModel",
          "model_module_version": "1.5.0",
          "state": {
            "_dom_classes": [],
            "_model_module": "@jupyter-widgets/controls",
            "_model_module_version": "1.5.0",
            "_model_name": "FloatProgressModel",
            "_view_count": null,
            "_view_module": "@jupyter-widgets/controls",
            "_view_module_version": "1.5.0",
            "_view_name": "ProgressView",
            "bar_style": "success",
            "description": "",
            "description_tooltip": null,
            "layout": "IPY_MODEL_3a2536d6a3434017b66de43d40dd69b7",
            "max": 5,
            "min": 0,
            "orientation": "horizontal",
            "style": "IPY_MODEL_078a7c4893c940a199123b1ef417f541",
            "value": 5
          }
        },
        "dfa48d5c49474fe48c5764d68cf0c0e9": {
          "model_module": "@jupyter-widgets/controls",
          "model_name": "HTMLModel",
          "model_module_version": "1.5.0",
          "state": {
            "_dom_classes": [],
            "_model_module": "@jupyter-widgets/controls",
            "_model_module_version": "1.5.0",
            "_model_name": "HTMLModel",
            "_view_count": null,
            "_view_module": "@jupyter-widgets/controls",
            "_view_module_version": "1.5.0",
            "_view_name": "HTMLView",
            "description": "",
            "description_tooltip": null,
            "layout": "IPY_MODEL_0c44da2ec3ff4b358f748f8634218627",
            "placeholder": "​",
            "style": "IPY_MODEL_a0f1cb7f6b9142e9a61f97ea05c37c8b",
            "value": " 1416/1416 [07:09&lt;00:00,  1.59it/s, Completed]"
          }
        },
        "ed9b1aae66d54009b6b70b89245bc991": {
          "model_module": "@jupyter-widgets/base",
          "model_name": "LayoutModel",
          "model_module_version": "1.2.0",
          "state": {
            "_model_module": "@jupyter-widgets/base",
            "_model_module_version": "1.2.0",
            "_model_name": "LayoutModel",
            "_view_count": null,
            "_view_module": "@jupyter-widgets/base",
            "_view_module_version": "1.2.0",
            "_view_name": "LayoutView",
            "align_content": null,
            "align_items": null,
            "align_self": null,
            "border": null,
            "bottom": null,
            "display": null,
            "flex": null,
            "flex_flow": null,
            "grid_area": null,
            "grid_auto_columns": null,
            "grid_auto_flow": null,
            "grid_auto_rows": null,
            "grid_column": null,
            "grid_gap": null,
            "grid_row": null,
            "grid_template_areas": null,
            "grid_template_columns": null,
            "grid_template_rows": null,
            "height": null,
            "justify_content": null,
            "justify_items": null,
            "left": null,
            "margin": null,
            "max_height": null,
            "max_width": null,
            "min_height": null,
            "min_width": null,
            "object_fit": null,
            "object_position": null,
            "order": null,
            "overflow": null,
            "overflow_x": null,
            "overflow_y": null,
            "padding": null,
            "right": null,
            "top": null,
            "visibility": null,
            "width": null
          }
        },
        "de6f6ae2718846c987df39052f349dfb": {
          "model_module": "@jupyter-widgets/base",
          "model_name": "LayoutModel",
          "model_module_version": "1.2.0",
          "state": {
            "_model_module": "@jupyter-widgets/base",
            "_model_module_version": "1.2.0",
            "_model_name": "LayoutModel",
            "_view_count": null,
            "_view_module": "@jupyter-widgets/base",
            "_view_module_version": "1.2.0",
            "_view_name": "LayoutView",
            "align_content": null,
            "align_items": null,
            "align_self": null,
            "border": null,
            "bottom": null,
            "display": null,
            "flex": null,
            "flex_flow": null,
            "grid_area": null,
            "grid_auto_columns": null,
            "grid_auto_flow": null,
            "grid_auto_rows": null,
            "grid_column": null,
            "grid_gap": null,
            "grid_row": null,
            "grid_template_areas": null,
            "grid_template_columns": null,
            "grid_template_rows": null,
            "height": null,
            "justify_content": null,
            "justify_items": null,
            "left": null,
            "margin": null,
            "max_height": null,
            "max_width": null,
            "min_height": null,
            "min_width": null,
            "object_fit": null,
            "object_position": null,
            "order": null,
            "overflow": null,
            "overflow_x": null,
            "overflow_y": null,
            "padding": null,
            "right": null,
            "top": null,
            "visibility": null,
            "width": null
          }
        },
        "33bb6f3552fd4c67890e576699ed3d73": {
          "model_module": "@jupyter-widgets/controls",
          "model_name": "DescriptionStyleModel",
          "model_module_version": "1.5.0",
          "state": {
            "_model_module": "@jupyter-widgets/controls",
            "_model_module_version": "1.5.0",
            "_model_name": "DescriptionStyleModel",
            "_view_count": null,
            "_view_module": "@jupyter-widgets/base",
            "_view_module_version": "1.2.0",
            "_view_name": "StyleView",
            "description_width": ""
          }
        },
        "3a2536d6a3434017b66de43d40dd69b7": {
          "model_module": "@jupyter-widgets/base",
          "model_name": "LayoutModel",
          "model_module_version": "1.2.0",
          "state": {
            "_model_module": "@jupyter-widgets/base",
            "_model_module_version": "1.2.0",
            "_model_name": "LayoutModel",
            "_view_count": null,
            "_view_module": "@jupyter-widgets/base",
            "_view_module_version": "1.2.0",
            "_view_name": "LayoutView",
            "align_content": null,
            "align_items": null,
            "align_self": null,
            "border": null,
            "bottom": null,
            "display": null,
            "flex": null,
            "flex_flow": null,
            "grid_area": null,
            "grid_auto_columns": null,
            "grid_auto_flow": null,
            "grid_auto_rows": null,
            "grid_column": null,
            "grid_gap": null,
            "grid_row": null,
            "grid_template_areas": null,
            "grid_template_columns": null,
            "grid_template_rows": null,
            "height": null,
            "justify_content": null,
            "justify_items": null,
            "left": null,
            "margin": null,
            "max_height": null,
            "max_width": null,
            "min_height": null,
            "min_width": null,
            "object_fit": null,
            "object_position": null,
            "order": null,
            "overflow": null,
            "overflow_x": null,
            "overflow_y": null,
            "padding": null,
            "right": null,
            "top": null,
            "visibility": null,
            "width": null
          }
        },
        "078a7c4893c940a199123b1ef417f541": {
          "model_module": "@jupyter-widgets/controls",
          "model_name": "ProgressStyleModel",
          "model_module_version": "1.5.0",
          "state": {
            "_model_module": "@jupyter-widgets/controls",
            "_model_module_version": "1.5.0",
            "_model_name": "ProgressStyleModel",
            "_view_count": null,
            "_view_module": "@jupyter-widgets/base",
            "_view_module_version": "1.2.0",
            "_view_name": "StyleView",
            "bar_color": null,
            "description_width": ""
          }
        },
        "0c44da2ec3ff4b358f748f8634218627": {
          "model_module": "@jupyter-widgets/base",
          "model_name": "LayoutModel",
          "model_module_version": "1.2.0",
          "state": {
            "_model_module": "@jupyter-widgets/base",
            "_model_module_version": "1.2.0",
            "_model_name": "LayoutModel",
            "_view_count": null,
            "_view_module": "@jupyter-widgets/base",
            "_view_module_version": "1.2.0",
            "_view_name": "LayoutView",
            "align_content": null,
            "align_items": null,
            "align_self": null,
            "border": null,
            "bottom": null,
            "display": null,
            "flex": null,
            "flex_flow": null,
            "grid_area": null,
            "grid_auto_columns": null,
            "grid_auto_flow": null,
            "grid_auto_rows": null,
            "grid_column": null,
            "grid_gap": null,
            "grid_row": null,
            "grid_template_areas": null,
            "grid_template_columns": null,
            "grid_template_rows": null,
            "height": null,
            "justify_content": null,
            "justify_items": null,
            "left": null,
            "margin": null,
            "max_height": null,
            "max_width": null,
            "min_height": null,
            "min_width": null,
            "object_fit": null,
            "object_position": null,
            "order": null,
            "overflow": null,
            "overflow_x": null,
            "overflow_y": null,
            "padding": null,
            "right": null,
            "top": null,
            "visibility": null,
            "width": null
          }
        },
        "a0f1cb7f6b9142e9a61f97ea05c37c8b": {
          "model_module": "@jupyter-widgets/controls",
          "model_name": "DescriptionStyleModel",
          "model_module_version": "1.5.0",
          "state": {
            "_model_module": "@jupyter-widgets/controls",
            "_model_module_version": "1.5.0",
            "_model_name": "DescriptionStyleModel",
            "_view_count": null,
            "_view_module": "@jupyter-widgets/base",
            "_view_module_version": "1.2.0",
            "_view_name": "StyleView",
            "description_width": ""
          }
        },
        "ed10edb8391049f5806388d3cf8c936d": {
          "model_module": "@jupyter-widgets/controls",
          "model_name": "HBoxModel",
          "model_module_version": "1.5.0",
          "state": {
            "_dom_classes": [],
            "_model_module": "@jupyter-widgets/controls",
            "_model_module_version": "1.5.0",
            "_model_name": "HBoxModel",
            "_view_count": null,
            "_view_module": "@jupyter-widgets/controls",
            "_view_module_version": "1.5.0",
            "_view_name": "HBoxView",
            "box_style": "",
            "children": [
              "IPY_MODEL_dc33da56034b43439d9dd8e1b1440bb2",
              "IPY_MODEL_b21a7a9f5a1f4f6dbeb6999c71a58281",
              "IPY_MODEL_cc3ba2abaf5a40699387df50f8a5fba6"
            ],
            "layout": "IPY_MODEL_172c6bae337e4db396fc190e61e724b3"
          }
        },
        "dc33da56034b43439d9dd8e1b1440bb2": {
          "model_module": "@jupyter-widgets/controls",
          "model_name": "HTMLModel",
          "model_module_version": "1.5.0",
          "state": {
            "_dom_classes": [],
            "_model_module": "@jupyter-widgets/controls",
            "_model_module_version": "1.5.0",
            "_model_name": "HTMLModel",
            "_view_count": null,
            "_view_module": "@jupyter-widgets/controls",
            "_view_module_version": "1.5.0",
            "_view_name": "HTMLView",
            "description": "",
            "description_tooltip": null,
            "layout": "IPY_MODEL_b9bc23b3932c494e9b3a7d89a684f820",
            "placeholder": "​",
            "style": "IPY_MODEL_d0cd847b971743078a60b59b6aa0d52e",
            "value": "Generate report structure: 100%"
          }
        },
        "b21a7a9f5a1f4f6dbeb6999c71a58281": {
          "model_module": "@jupyter-widgets/controls",
          "model_name": "FloatProgressModel",
          "model_module_version": "1.5.0",
          "state": {
            "_dom_classes": [],
            "_model_module": "@jupyter-widgets/controls",
            "_model_module_version": "1.5.0",
            "_model_name": "FloatProgressModel",
            "_view_count": null,
            "_view_module": "@jupyter-widgets/controls",
            "_view_module_version": "1.5.0",
            "_view_name": "ProgressView",
            "bar_style": "success",
            "description": "",
            "description_tooltip": null,
            "layout": "IPY_MODEL_6c62ca52d7654963a2f0b95f71c1f2e0",
            "max": 1,
            "min": 0,
            "orientation": "horizontal",
            "style": "IPY_MODEL_4d4070936a1d461e891a67656fb90480",
            "value": 1
          }
        },
        "cc3ba2abaf5a40699387df50f8a5fba6": {
          "model_module": "@jupyter-widgets/controls",
          "model_name": "HTMLModel",
          "model_module_version": "1.5.0",
          "state": {
            "_dom_classes": [],
            "_model_module": "@jupyter-widgets/controls",
            "_model_module_version": "1.5.0",
            "_model_name": "HTMLModel",
            "_view_count": null,
            "_view_module": "@jupyter-widgets/controls",
            "_view_module_version": "1.5.0",
            "_view_name": "HTMLView",
            "description": "",
            "description_tooltip": null,
            "layout": "IPY_MODEL_9cfb7534a24549acbdd0bd36ab2ce2f4",
            "placeholder": "​",
            "style": "IPY_MODEL_d2ad6b59b7d94093a02e3dc286abc0b6",
            "value": " 1/1 [00:32&lt;00:00, 32.34s/it]"
          }
        },
        "172c6bae337e4db396fc190e61e724b3": {
          "model_module": "@jupyter-widgets/base",
          "model_name": "LayoutModel",
          "model_module_version": "1.2.0",
          "state": {
            "_model_module": "@jupyter-widgets/base",
            "_model_module_version": "1.2.0",
            "_model_name": "LayoutModel",
            "_view_count": null,
            "_view_module": "@jupyter-widgets/base",
            "_view_module_version": "1.2.0",
            "_view_name": "LayoutView",
            "align_content": null,
            "align_items": null,
            "align_self": null,
            "border": null,
            "bottom": null,
            "display": null,
            "flex": null,
            "flex_flow": null,
            "grid_area": null,
            "grid_auto_columns": null,
            "grid_auto_flow": null,
            "grid_auto_rows": null,
            "grid_column": null,
            "grid_gap": null,
            "grid_row": null,
            "grid_template_areas": null,
            "grid_template_columns": null,
            "grid_template_rows": null,
            "height": null,
            "justify_content": null,
            "justify_items": null,
            "left": null,
            "margin": null,
            "max_height": null,
            "max_width": null,
            "min_height": null,
            "min_width": null,
            "object_fit": null,
            "object_position": null,
            "order": null,
            "overflow": null,
            "overflow_x": null,
            "overflow_y": null,
            "padding": null,
            "right": null,
            "top": null,
            "visibility": null,
            "width": null
          }
        },
        "b9bc23b3932c494e9b3a7d89a684f820": {
          "model_module": "@jupyter-widgets/base",
          "model_name": "LayoutModel",
          "model_module_version": "1.2.0",
          "state": {
            "_model_module": "@jupyter-widgets/base",
            "_model_module_version": "1.2.0",
            "_model_name": "LayoutModel",
            "_view_count": null,
            "_view_module": "@jupyter-widgets/base",
            "_view_module_version": "1.2.0",
            "_view_name": "LayoutView",
            "align_content": null,
            "align_items": null,
            "align_self": null,
            "border": null,
            "bottom": null,
            "display": null,
            "flex": null,
            "flex_flow": null,
            "grid_area": null,
            "grid_auto_columns": null,
            "grid_auto_flow": null,
            "grid_auto_rows": null,
            "grid_column": null,
            "grid_gap": null,
            "grid_row": null,
            "grid_template_areas": null,
            "grid_template_columns": null,
            "grid_template_rows": null,
            "height": null,
            "justify_content": null,
            "justify_items": null,
            "left": null,
            "margin": null,
            "max_height": null,
            "max_width": null,
            "min_height": null,
            "min_width": null,
            "object_fit": null,
            "object_position": null,
            "order": null,
            "overflow": null,
            "overflow_x": null,
            "overflow_y": null,
            "padding": null,
            "right": null,
            "top": null,
            "visibility": null,
            "width": null
          }
        },
        "d0cd847b971743078a60b59b6aa0d52e": {
          "model_module": "@jupyter-widgets/controls",
          "model_name": "DescriptionStyleModel",
          "model_module_version": "1.5.0",
          "state": {
            "_model_module": "@jupyter-widgets/controls",
            "_model_module_version": "1.5.0",
            "_model_name": "DescriptionStyleModel",
            "_view_count": null,
            "_view_module": "@jupyter-widgets/base",
            "_view_module_version": "1.2.0",
            "_view_name": "StyleView",
            "description_width": ""
          }
        },
        "6c62ca52d7654963a2f0b95f71c1f2e0": {
          "model_module": "@jupyter-widgets/base",
          "model_name": "LayoutModel",
          "model_module_version": "1.2.0",
          "state": {
            "_model_module": "@jupyter-widgets/base",
            "_model_module_version": "1.2.0",
            "_model_name": "LayoutModel",
            "_view_count": null,
            "_view_module": "@jupyter-widgets/base",
            "_view_module_version": "1.2.0",
            "_view_name": "LayoutView",
            "align_content": null,
            "align_items": null,
            "align_self": null,
            "border": null,
            "bottom": null,
            "display": null,
            "flex": null,
            "flex_flow": null,
            "grid_area": null,
            "grid_auto_columns": null,
            "grid_auto_flow": null,
            "grid_auto_rows": null,
            "grid_column": null,
            "grid_gap": null,
            "grid_row": null,
            "grid_template_areas": null,
            "grid_template_columns": null,
            "grid_template_rows": null,
            "height": null,
            "justify_content": null,
            "justify_items": null,
            "left": null,
            "margin": null,
            "max_height": null,
            "max_width": null,
            "min_height": null,
            "min_width": null,
            "object_fit": null,
            "object_position": null,
            "order": null,
            "overflow": null,
            "overflow_x": null,
            "overflow_y": null,
            "padding": null,
            "right": null,
            "top": null,
            "visibility": null,
            "width": null
          }
        },
        "4d4070936a1d461e891a67656fb90480": {
          "model_module": "@jupyter-widgets/controls",
          "model_name": "ProgressStyleModel",
          "model_module_version": "1.5.0",
          "state": {
            "_model_module": "@jupyter-widgets/controls",
            "_model_module_version": "1.5.0",
            "_model_name": "ProgressStyleModel",
            "_view_count": null,
            "_view_module": "@jupyter-widgets/base",
            "_view_module_version": "1.2.0",
            "_view_name": "StyleView",
            "bar_color": null,
            "description_width": ""
          }
        },
        "9cfb7534a24549acbdd0bd36ab2ce2f4": {
          "model_module": "@jupyter-widgets/base",
          "model_name": "LayoutModel",
          "model_module_version": "1.2.0",
          "state": {
            "_model_module": "@jupyter-widgets/base",
            "_model_module_version": "1.2.0",
            "_model_name": "LayoutModel",
            "_view_count": null,
            "_view_module": "@jupyter-widgets/base",
            "_view_module_version": "1.2.0",
            "_view_name": "LayoutView",
            "align_content": null,
            "align_items": null,
            "align_self": null,
            "border": null,
            "bottom": null,
            "display": null,
            "flex": null,
            "flex_flow": null,
            "grid_area": null,
            "grid_auto_columns": null,
            "grid_auto_flow": null,
            "grid_auto_rows": null,
            "grid_column": null,
            "grid_gap": null,
            "grid_row": null,
            "grid_template_areas": null,
            "grid_template_columns": null,
            "grid_template_rows": null,
            "height": null,
            "justify_content": null,
            "justify_items": null,
            "left": null,
            "margin": null,
            "max_height": null,
            "max_width": null,
            "min_height": null,
            "min_width": null,
            "object_fit": null,
            "object_position": null,
            "order": null,
            "overflow": null,
            "overflow_x": null,
            "overflow_y": null,
            "padding": null,
            "right": null,
            "top": null,
            "visibility": null,
            "width": null
          }
        },
        "d2ad6b59b7d94093a02e3dc286abc0b6": {
          "model_module": "@jupyter-widgets/controls",
          "model_name": "DescriptionStyleModel",
          "model_module_version": "1.5.0",
          "state": {
            "_model_module": "@jupyter-widgets/controls",
            "_model_module_version": "1.5.0",
            "_model_name": "DescriptionStyleModel",
            "_view_count": null,
            "_view_module": "@jupyter-widgets/base",
            "_view_module_version": "1.2.0",
            "_view_name": "StyleView",
            "description_width": ""
          }
        },
        "709d446ccfd04be8a6b37ddbb754e2f5": {
          "model_module": "@jupyter-widgets/controls",
          "model_name": "HBoxModel",
          "model_module_version": "1.5.0",
          "state": {
            "_dom_classes": [],
            "_model_module": "@jupyter-widgets/controls",
            "_model_module_version": "1.5.0",
            "_model_name": "HBoxModel",
            "_view_count": null,
            "_view_module": "@jupyter-widgets/controls",
            "_view_module_version": "1.5.0",
            "_view_name": "HBoxView",
            "box_style": "",
            "children": [
              "IPY_MODEL_7a56fa675981405ebe062154a2f94e73",
              "IPY_MODEL_341084870ad44007b4f233ce970c90f8",
              "IPY_MODEL_f138cebea22245f48931f52616d66e1e"
            ],
            "layout": "IPY_MODEL_ee006ce381954f54ae58bfde11b32312"
          }
        },
        "7a56fa675981405ebe062154a2f94e73": {
          "model_module": "@jupyter-widgets/controls",
          "model_name": "HTMLModel",
          "model_module_version": "1.5.0",
          "state": {
            "_dom_classes": [],
            "_model_module": "@jupyter-widgets/controls",
            "_model_module_version": "1.5.0",
            "_model_name": "HTMLModel",
            "_view_count": null,
            "_view_module": "@jupyter-widgets/controls",
            "_view_module_version": "1.5.0",
            "_view_name": "HTMLView",
            "description": "",
            "description_tooltip": null,
            "layout": "IPY_MODEL_96dafac65782407fb105beca59a3bf84",
            "placeholder": "​",
            "style": "IPY_MODEL_c1f3a80e88a148fa96b7796dd18253e0",
            "value": "Render HTML: 100%"
          }
        },
        "341084870ad44007b4f233ce970c90f8": {
          "model_module": "@jupyter-widgets/controls",
          "model_name": "FloatProgressModel",
          "model_module_version": "1.5.0",
          "state": {
            "_dom_classes": [],
            "_model_module": "@jupyter-widgets/controls",
            "_model_module_version": "1.5.0",
            "_model_name": "FloatProgressModel",
            "_view_count": null,
            "_view_module": "@jupyter-widgets/controls",
            "_view_module_version": "1.5.0",
            "_view_name": "ProgressView",
            "bar_style": "success",
            "description": "",
            "description_tooltip": null,
            "layout": "IPY_MODEL_a75c77c91f914da986cc999507fc6e7c",
            "max": 1,
            "min": 0,
            "orientation": "horizontal",
            "style": "IPY_MODEL_945f17af644643c3be71a6502443f6c1",
            "value": 1
          }
        },
        "f138cebea22245f48931f52616d66e1e": {
          "model_module": "@jupyter-widgets/controls",
          "model_name": "HTMLModel",
          "model_module_version": "1.5.0",
          "state": {
            "_dom_classes": [],
            "_model_module": "@jupyter-widgets/controls",
            "_model_module_version": "1.5.0",
            "_model_name": "HTMLModel",
            "_view_count": null,
            "_view_module": "@jupyter-widgets/controls",
            "_view_module_version": "1.5.0",
            "_view_name": "HTMLView",
            "description": "",
            "description_tooltip": null,
            "layout": "IPY_MODEL_9877d62268d84f9cb8d740292835240e",
            "placeholder": "​",
            "style": "IPY_MODEL_24322f994efb4a4ba37df69d9e2a47a7",
            "value": " 1/1 [01:00&lt;00:00, 59.95s/it]"
          }
        },
        "ee006ce381954f54ae58bfde11b32312": {
          "model_module": "@jupyter-widgets/base",
          "model_name": "LayoutModel",
          "model_module_version": "1.2.0",
          "state": {
            "_model_module": "@jupyter-widgets/base",
            "_model_module_version": "1.2.0",
            "_model_name": "LayoutModel",
            "_view_count": null,
            "_view_module": "@jupyter-widgets/base",
            "_view_module_version": "1.2.0",
            "_view_name": "LayoutView",
            "align_content": null,
            "align_items": null,
            "align_self": null,
            "border": null,
            "bottom": null,
            "display": null,
            "flex": null,
            "flex_flow": null,
            "grid_area": null,
            "grid_auto_columns": null,
            "grid_auto_flow": null,
            "grid_auto_rows": null,
            "grid_column": null,
            "grid_gap": null,
            "grid_row": null,
            "grid_template_areas": null,
            "grid_template_columns": null,
            "grid_template_rows": null,
            "height": null,
            "justify_content": null,
            "justify_items": null,
            "left": null,
            "margin": null,
            "max_height": null,
            "max_width": null,
            "min_height": null,
            "min_width": null,
            "object_fit": null,
            "object_position": null,
            "order": null,
            "overflow": null,
            "overflow_x": null,
            "overflow_y": null,
            "padding": null,
            "right": null,
            "top": null,
            "visibility": null,
            "width": null
          }
        },
        "96dafac65782407fb105beca59a3bf84": {
          "model_module": "@jupyter-widgets/base",
          "model_name": "LayoutModel",
          "model_module_version": "1.2.0",
          "state": {
            "_model_module": "@jupyter-widgets/base",
            "_model_module_version": "1.2.0",
            "_model_name": "LayoutModel",
            "_view_count": null,
            "_view_module": "@jupyter-widgets/base",
            "_view_module_version": "1.2.0",
            "_view_name": "LayoutView",
            "align_content": null,
            "align_items": null,
            "align_self": null,
            "border": null,
            "bottom": null,
            "display": null,
            "flex": null,
            "flex_flow": null,
            "grid_area": null,
            "grid_auto_columns": null,
            "grid_auto_flow": null,
            "grid_auto_rows": null,
            "grid_column": null,
            "grid_gap": null,
            "grid_row": null,
            "grid_template_areas": null,
            "grid_template_columns": null,
            "grid_template_rows": null,
            "height": null,
            "justify_content": null,
            "justify_items": null,
            "left": null,
            "margin": null,
            "max_height": null,
            "max_width": null,
            "min_height": null,
            "min_width": null,
            "object_fit": null,
            "object_position": null,
            "order": null,
            "overflow": null,
            "overflow_x": null,
            "overflow_y": null,
            "padding": null,
            "right": null,
            "top": null,
            "visibility": null,
            "width": null
          }
        },
        "c1f3a80e88a148fa96b7796dd18253e0": {
          "model_module": "@jupyter-widgets/controls",
          "model_name": "DescriptionStyleModel",
          "model_module_version": "1.5.0",
          "state": {
            "_model_module": "@jupyter-widgets/controls",
            "_model_module_version": "1.5.0",
            "_model_name": "DescriptionStyleModel",
            "_view_count": null,
            "_view_module": "@jupyter-widgets/base",
            "_view_module_version": "1.2.0",
            "_view_name": "StyleView",
            "description_width": ""
          }
        },
        "a75c77c91f914da986cc999507fc6e7c": {
          "model_module": "@jupyter-widgets/base",
          "model_name": "LayoutModel",
          "model_module_version": "1.2.0",
          "state": {
            "_model_module": "@jupyter-widgets/base",
            "_model_module_version": "1.2.0",
            "_model_name": "LayoutModel",
            "_view_count": null,
            "_view_module": "@jupyter-widgets/base",
            "_view_module_version": "1.2.0",
            "_view_name": "LayoutView",
            "align_content": null,
            "align_items": null,
            "align_self": null,
            "border": null,
            "bottom": null,
            "display": null,
            "flex": null,
            "flex_flow": null,
            "grid_area": null,
            "grid_auto_columns": null,
            "grid_auto_flow": null,
            "grid_auto_rows": null,
            "grid_column": null,
            "grid_gap": null,
            "grid_row": null,
            "grid_template_areas": null,
            "grid_template_columns": null,
            "grid_template_rows": null,
            "height": null,
            "justify_content": null,
            "justify_items": null,
            "left": null,
            "margin": null,
            "max_height": null,
            "max_width": null,
            "min_height": null,
            "min_width": null,
            "object_fit": null,
            "object_position": null,
            "order": null,
            "overflow": null,
            "overflow_x": null,
            "overflow_y": null,
            "padding": null,
            "right": null,
            "top": null,
            "visibility": null,
            "width": null
          }
        },
        "945f17af644643c3be71a6502443f6c1": {
          "model_module": "@jupyter-widgets/controls",
          "model_name": "ProgressStyleModel",
          "model_module_version": "1.5.0",
          "state": {
            "_model_module": "@jupyter-widgets/controls",
            "_model_module_version": "1.5.0",
            "_model_name": "ProgressStyleModel",
            "_view_count": null,
            "_view_module": "@jupyter-widgets/base",
            "_view_module_version": "1.2.0",
            "_view_name": "StyleView",
            "bar_color": null,
            "description_width": ""
          }
        },
        "9877d62268d84f9cb8d740292835240e": {
          "model_module": "@jupyter-widgets/base",
          "model_name": "LayoutModel",
          "model_module_version": "1.2.0",
          "state": {
            "_model_module": "@jupyter-widgets/base",
            "_model_module_version": "1.2.0",
            "_model_name": "LayoutModel",
            "_view_count": null,
            "_view_module": "@jupyter-widgets/base",
            "_view_module_version": "1.2.0",
            "_view_name": "LayoutView",
            "align_content": null,
            "align_items": null,
            "align_self": null,
            "border": null,
            "bottom": null,
            "display": null,
            "flex": null,
            "flex_flow": null,
            "grid_area": null,
            "grid_auto_columns": null,
            "grid_auto_flow": null,
            "grid_auto_rows": null,
            "grid_column": null,
            "grid_gap": null,
            "grid_row": null,
            "grid_template_areas": null,
            "grid_template_columns": null,
            "grid_template_rows": null,
            "height": null,
            "justify_content": null,
            "justify_items": null,
            "left": null,
            "margin": null,
            "max_height": null,
            "max_width": null,
            "min_height": null,
            "min_width": null,
            "object_fit": null,
            "object_position": null,
            "order": null,
            "overflow": null,
            "overflow_x": null,
            "overflow_y": null,
            "padding": null,
            "right": null,
            "top": null,
            "visibility": null,
            "width": null
          }
        },
        "24322f994efb4a4ba37df69d9e2a47a7": {
          "model_module": "@jupyter-widgets/controls",
          "model_name": "DescriptionStyleModel",
          "model_module_version": "1.5.0",
          "state": {
            "_model_module": "@jupyter-widgets/controls",
            "_model_module_version": "1.5.0",
            "_model_name": "DescriptionStyleModel",
            "_view_count": null,
            "_view_module": "@jupyter-widgets/base",
            "_view_module_version": "1.2.0",
            "_view_name": "StyleView",
            "description_width": ""
          }
        },
        "c4daa7e984964ee59790b8bccb343b69": {
          "model_module": "@jupyter-widgets/controls",
          "model_name": "HBoxModel",
          "model_module_version": "1.5.0",
          "state": {
            "_dom_classes": [],
            "_model_module": "@jupyter-widgets/controls",
            "_model_module_version": "1.5.0",
            "_model_name": "HBoxModel",
            "_view_count": null,
            "_view_module": "@jupyter-widgets/controls",
            "_view_module_version": "1.5.0",
            "_view_name": "HBoxView",
            "box_style": "",
            "children": [
              "IPY_MODEL_a4a6dbe26c4642b4a1b5a4dbdf49d29c",
              "IPY_MODEL_dfb36ec050024565838a8e681de53314",
              "IPY_MODEL_826223cef15745afa5eb4c9943f5f61b"
            ],
            "layout": "IPY_MODEL_5fa1c308b5ee420caedd196df8d6c7c6"
          }
        },
        "a4a6dbe26c4642b4a1b5a4dbdf49d29c": {
          "model_module": "@jupyter-widgets/controls",
          "model_name": "HTMLModel",
          "model_module_version": "1.5.0",
          "state": {
            "_dom_classes": [],
            "_model_module": "@jupyter-widgets/controls",
            "_model_module_version": "1.5.0",
            "_model_name": "HTMLModel",
            "_view_count": null,
            "_view_module": "@jupyter-widgets/controls",
            "_view_module_version": "1.5.0",
            "_view_name": "HTMLView",
            "description": "",
            "description_tooltip": null,
            "layout": "IPY_MODEL_c795dd116d7649ce82a953591874bcae",
            "placeholder": "​",
            "style": "IPY_MODEL_0f86710800e74d7aaf6ad638397cae16",
            "value": "Export report to file: 100%"
          }
        },
        "dfb36ec050024565838a8e681de53314": {
          "model_module": "@jupyter-widgets/controls",
          "model_name": "FloatProgressModel",
          "model_module_version": "1.5.0",
          "state": {
            "_dom_classes": [],
            "_model_module": "@jupyter-widgets/controls",
            "_model_module_version": "1.5.0",
            "_model_name": "FloatProgressModel",
            "_view_count": null,
            "_view_module": "@jupyter-widgets/controls",
            "_view_module_version": "1.5.0",
            "_view_name": "ProgressView",
            "bar_style": "success",
            "description": "",
            "description_tooltip": null,
            "layout": "IPY_MODEL_4f8307887eff43e195892a669288ed15",
            "max": 1,
            "min": 0,
            "orientation": "horizontal",
            "style": "IPY_MODEL_8d18e280f2da4296b124a92e935e3a53",
            "value": 1
          }
        },
        "826223cef15745afa5eb4c9943f5f61b": {
          "model_module": "@jupyter-widgets/controls",
          "model_name": "HTMLModel",
          "model_module_version": "1.5.0",
          "state": {
            "_dom_classes": [],
            "_model_module": "@jupyter-widgets/controls",
            "_model_module_version": "1.5.0",
            "_model_name": "HTMLModel",
            "_view_count": null,
            "_view_module": "@jupyter-widgets/controls",
            "_view_module_version": "1.5.0",
            "_view_name": "HTMLView",
            "description": "",
            "description_tooltip": null,
            "layout": "IPY_MODEL_5c3e4e6631fe4e95b652c54f606dd3a2",
            "placeholder": "​",
            "style": "IPY_MODEL_b9eb0219d81e472db46f60e37672b6a6",
            "value": " 1/1 [00:00&lt;00:00,  3.40it/s]"
          }
        },
        "5fa1c308b5ee420caedd196df8d6c7c6": {
          "model_module": "@jupyter-widgets/base",
          "model_name": "LayoutModel",
          "model_module_version": "1.2.0",
          "state": {
            "_model_module": "@jupyter-widgets/base",
            "_model_module_version": "1.2.0",
            "_model_name": "LayoutModel",
            "_view_count": null,
            "_view_module": "@jupyter-widgets/base",
            "_view_module_version": "1.2.0",
            "_view_name": "LayoutView",
            "align_content": null,
            "align_items": null,
            "align_self": null,
            "border": null,
            "bottom": null,
            "display": null,
            "flex": null,
            "flex_flow": null,
            "grid_area": null,
            "grid_auto_columns": null,
            "grid_auto_flow": null,
            "grid_auto_rows": null,
            "grid_column": null,
            "grid_gap": null,
            "grid_row": null,
            "grid_template_areas": null,
            "grid_template_columns": null,
            "grid_template_rows": null,
            "height": null,
            "justify_content": null,
            "justify_items": null,
            "left": null,
            "margin": null,
            "max_height": null,
            "max_width": null,
            "min_height": null,
            "min_width": null,
            "object_fit": null,
            "object_position": null,
            "order": null,
            "overflow": null,
            "overflow_x": null,
            "overflow_y": null,
            "padding": null,
            "right": null,
            "top": null,
            "visibility": null,
            "width": null
          }
        },
        "c795dd116d7649ce82a953591874bcae": {
          "model_module": "@jupyter-widgets/base",
          "model_name": "LayoutModel",
          "model_module_version": "1.2.0",
          "state": {
            "_model_module": "@jupyter-widgets/base",
            "_model_module_version": "1.2.0",
            "_model_name": "LayoutModel",
            "_view_count": null,
            "_view_module": "@jupyter-widgets/base",
            "_view_module_version": "1.2.0",
            "_view_name": "LayoutView",
            "align_content": null,
            "align_items": null,
            "align_self": null,
            "border": null,
            "bottom": null,
            "display": null,
            "flex": null,
            "flex_flow": null,
            "grid_area": null,
            "grid_auto_columns": null,
            "grid_auto_flow": null,
            "grid_auto_rows": null,
            "grid_column": null,
            "grid_gap": null,
            "grid_row": null,
            "grid_template_areas": null,
            "grid_template_columns": null,
            "grid_template_rows": null,
            "height": null,
            "justify_content": null,
            "justify_items": null,
            "left": null,
            "margin": null,
            "max_height": null,
            "max_width": null,
            "min_height": null,
            "min_width": null,
            "object_fit": null,
            "object_position": null,
            "order": null,
            "overflow": null,
            "overflow_x": null,
            "overflow_y": null,
            "padding": null,
            "right": null,
            "top": null,
            "visibility": null,
            "width": null
          }
        },
        "0f86710800e74d7aaf6ad638397cae16": {
          "model_module": "@jupyter-widgets/controls",
          "model_name": "DescriptionStyleModel",
          "model_module_version": "1.5.0",
          "state": {
            "_model_module": "@jupyter-widgets/controls",
            "_model_module_version": "1.5.0",
            "_model_name": "DescriptionStyleModel",
            "_view_count": null,
            "_view_module": "@jupyter-widgets/base",
            "_view_module_version": "1.2.0",
            "_view_name": "StyleView",
            "description_width": ""
          }
        },
        "4f8307887eff43e195892a669288ed15": {
          "model_module": "@jupyter-widgets/base",
          "model_name": "LayoutModel",
          "model_module_version": "1.2.0",
          "state": {
            "_model_module": "@jupyter-widgets/base",
            "_model_module_version": "1.2.0",
            "_model_name": "LayoutModel",
            "_view_count": null,
            "_view_module": "@jupyter-widgets/base",
            "_view_module_version": "1.2.0",
            "_view_name": "LayoutView",
            "align_content": null,
            "align_items": null,
            "align_self": null,
            "border": null,
            "bottom": null,
            "display": null,
            "flex": null,
            "flex_flow": null,
            "grid_area": null,
            "grid_auto_columns": null,
            "grid_auto_flow": null,
            "grid_auto_rows": null,
            "grid_column": null,
            "grid_gap": null,
            "grid_row": null,
            "grid_template_areas": null,
            "grid_template_columns": null,
            "grid_template_rows": null,
            "height": null,
            "justify_content": null,
            "justify_items": null,
            "left": null,
            "margin": null,
            "max_height": null,
            "max_width": null,
            "min_height": null,
            "min_width": null,
            "object_fit": null,
            "object_position": null,
            "order": null,
            "overflow": null,
            "overflow_x": null,
            "overflow_y": null,
            "padding": null,
            "right": null,
            "top": null,
            "visibility": null,
            "width": null
          }
        },
        "8d18e280f2da4296b124a92e935e3a53": {
          "model_module": "@jupyter-widgets/controls",
          "model_name": "ProgressStyleModel",
          "model_module_version": "1.5.0",
          "state": {
            "_model_module": "@jupyter-widgets/controls",
            "_model_module_version": "1.5.0",
            "_model_name": "ProgressStyleModel",
            "_view_count": null,
            "_view_module": "@jupyter-widgets/base",
            "_view_module_version": "1.2.0",
            "_view_name": "StyleView",
            "bar_color": null,
            "description_width": ""
          }
        },
        "5c3e4e6631fe4e95b652c54f606dd3a2": {
          "model_module": "@jupyter-widgets/base",
          "model_name": "LayoutModel",
          "model_module_version": "1.2.0",
          "state": {
            "_model_module": "@jupyter-widgets/base",
            "_model_module_version": "1.2.0",
            "_model_name": "LayoutModel",
            "_view_count": null,
            "_view_module": "@jupyter-widgets/base",
            "_view_module_version": "1.2.0",
            "_view_name": "LayoutView",
            "align_content": null,
            "align_items": null,
            "align_self": null,
            "border": null,
            "bottom": null,
            "display": null,
            "flex": null,
            "flex_flow": null,
            "grid_area": null,
            "grid_auto_columns": null,
            "grid_auto_flow": null,
            "grid_auto_rows": null,
            "grid_column": null,
            "grid_gap": null,
            "grid_row": null,
            "grid_template_areas": null,
            "grid_template_columns": null,
            "grid_template_rows": null,
            "height": null,
            "justify_content": null,
            "justify_items": null,
            "left": null,
            "margin": null,
            "max_height": null,
            "max_width": null,
            "min_height": null,
            "min_width": null,
            "object_fit": null,
            "object_position": null,
            "order": null,
            "overflow": null,
            "overflow_x": null,
            "overflow_y": null,
            "padding": null,
            "right": null,
            "top": null,
            "visibility": null,
            "width": null
          }
        },
        "b9eb0219d81e472db46f60e37672b6a6": {
          "model_module": "@jupyter-widgets/controls",
          "model_name": "DescriptionStyleModel",
          "model_module_version": "1.5.0",
          "state": {
            "_model_module": "@jupyter-widgets/controls",
            "_model_module_version": "1.5.0",
            "_model_name": "DescriptionStyleModel",
            "_view_count": null,
            "_view_module": "@jupyter-widgets/base",
            "_view_module_version": "1.2.0",
            "_view_name": "StyleView",
            "description_width": ""
          }
        }
      }
    }
  },
  "cells": [
    {
      "cell_type": "markdown",
      "metadata": {
        "id": "view-in-github",
        "colab_type": "text"
      },
      "source": [
        "<a href=\"https://colab.research.google.com/github/Timoh-Mbata/Data-Analysis-for-Electrical-compan/blob/main/Untitled44.ipynb\" target=\"_parent\"><img src=\"https://colab.research.google.com/assets/colab-badge.svg\" alt=\"Open In Colab\"/></a>"
      ]
    },
    {
      "cell_type": "markdown",
      "source": [
        "# Instalation"
      ],
      "metadata": {
        "id": "i1YndXqn0aOR"
      }
    },
    {
      "cell_type": "code",
      "source": [
        "!pip install ydata-profiling"
      ],
      "metadata": {
        "colab": {
          "base_uri": "https://localhost:8080/"
        },
        "id": "w5ouOIbt0imn",
        "outputId": "c4333549-0e6c-4f59-9d50-0acddd6976c0"
      },
      "execution_count": null,
      "outputs": [
        {
          "output_type": "stream",
          "name": "stdout",
          "text": [
            "Requirement already satisfied: ydata-profiling in /usr/local/lib/python3.10/dist-packages (4.8.3)\n",
            "Requirement already satisfied: scipy<1.14,>=1.4.1 in /usr/local/lib/python3.10/dist-packages (from ydata-profiling) (1.11.4)\n",
            "Requirement already satisfied: pandas!=1.4.0,<3,>1.1 in /usr/local/lib/python3.10/dist-packages (from ydata-profiling) (2.0.3)\n",
            "Requirement already satisfied: matplotlib<3.9,>=3.2 in /usr/local/lib/python3.10/dist-packages (from ydata-profiling) (3.7.1)\n",
            "Requirement already satisfied: pydantic>=2 in /usr/local/lib/python3.10/dist-packages (from ydata-profiling) (2.7.4)\n",
            "Requirement already satisfied: PyYAML<6.1,>=5.0.0 in /usr/local/lib/python3.10/dist-packages (from ydata-profiling) (6.0.1)\n",
            "Requirement already satisfied: jinja2<3.2,>=2.11.1 in /usr/local/lib/python3.10/dist-packages (from ydata-profiling) (3.1.4)\n",
            "Requirement already satisfied: visions[type_image_path]<0.7.7,>=0.7.5 in /usr/local/lib/python3.10/dist-packages (from ydata-profiling) (0.7.6)\n",
            "Requirement already satisfied: numpy<2,>=1.16.0 in /usr/local/lib/python3.10/dist-packages (from ydata-profiling) (1.25.2)\n",
            "Requirement already satisfied: htmlmin==0.1.12 in /usr/local/lib/python3.10/dist-packages (from ydata-profiling) (0.1.12)\n",
            "Requirement already satisfied: phik<0.13,>=0.11.1 in /usr/local/lib/python3.10/dist-packages (from ydata-profiling) (0.12.4)\n",
            "Requirement already satisfied: requests<3,>=2.24.0 in /usr/local/lib/python3.10/dist-packages (from ydata-profiling) (2.31.0)\n",
            "Requirement already satisfied: tqdm<5,>=4.48.2 in /usr/local/lib/python3.10/dist-packages (from ydata-profiling) (4.66.4)\n",
            "Requirement already satisfied: seaborn<0.14,>=0.10.1 in /usr/local/lib/python3.10/dist-packages (from ydata-profiling) (0.13.1)\n",
            "Requirement already satisfied: multimethod<2,>=1.4 in /usr/local/lib/python3.10/dist-packages (from ydata-profiling) (1.11.2)\n",
            "Requirement already satisfied: statsmodels<1,>=0.13.2 in /usr/local/lib/python3.10/dist-packages (from ydata-profiling) (0.14.2)\n",
            "Requirement already satisfied: typeguard<5,>=3 in /usr/local/lib/python3.10/dist-packages (from ydata-profiling) (4.3.0)\n",
            "Requirement already satisfied: imagehash==4.3.1 in /usr/local/lib/python3.10/dist-packages (from ydata-profiling) (4.3.1)\n",
            "Requirement already satisfied: wordcloud>=1.9.1 in /usr/local/lib/python3.10/dist-packages (from ydata-profiling) (1.9.3)\n",
            "Requirement already satisfied: dacite>=1.8 in /usr/local/lib/python3.10/dist-packages (from ydata-profiling) (1.8.1)\n",
            "Requirement already satisfied: numba<1,>=0.56.0 in /usr/local/lib/python3.10/dist-packages (from ydata-profiling) (0.58.1)\n",
            "Requirement already satisfied: PyWavelets in /usr/local/lib/python3.10/dist-packages (from imagehash==4.3.1->ydata-profiling) (1.6.0)\n",
            "Requirement already satisfied: pillow in /usr/local/lib/python3.10/dist-packages (from imagehash==4.3.1->ydata-profiling) (9.4.0)\n",
            "Requirement already satisfied: MarkupSafe>=2.0 in /usr/local/lib/python3.10/dist-packages (from jinja2<3.2,>=2.11.1->ydata-profiling) (2.1.5)\n",
            "Requirement already satisfied: contourpy>=1.0.1 in /usr/local/lib/python3.10/dist-packages (from matplotlib<3.9,>=3.2->ydata-profiling) (1.2.1)\n",
            "Requirement already satisfied: cycler>=0.10 in /usr/local/lib/python3.10/dist-packages (from matplotlib<3.9,>=3.2->ydata-profiling) (0.12.1)\n",
            "Requirement already satisfied: fonttools>=4.22.0 in /usr/local/lib/python3.10/dist-packages (from matplotlib<3.9,>=3.2->ydata-profiling) (4.53.0)\n",
            "Requirement already satisfied: kiwisolver>=1.0.1 in /usr/local/lib/python3.10/dist-packages (from matplotlib<3.9,>=3.2->ydata-profiling) (1.4.5)\n",
            "Requirement already satisfied: packaging>=20.0 in /usr/local/lib/python3.10/dist-packages (from matplotlib<3.9,>=3.2->ydata-profiling) (24.1)\n",
            "Requirement already satisfied: pyparsing>=2.3.1 in /usr/local/lib/python3.10/dist-packages (from matplotlib<3.9,>=3.2->ydata-profiling) (3.1.2)\n",
            "Requirement already satisfied: python-dateutil>=2.7 in /usr/local/lib/python3.10/dist-packages (from matplotlib<3.9,>=3.2->ydata-profiling) (2.8.2)\n",
            "Requirement already satisfied: llvmlite<0.42,>=0.41.0dev0 in /usr/local/lib/python3.10/dist-packages (from numba<1,>=0.56.0->ydata-profiling) (0.41.1)\n",
            "Requirement already satisfied: pytz>=2020.1 in /usr/local/lib/python3.10/dist-packages (from pandas!=1.4.0,<3,>1.1->ydata-profiling) (2023.4)\n",
            "Requirement already satisfied: tzdata>=2022.1 in /usr/local/lib/python3.10/dist-packages (from pandas!=1.4.0,<3,>1.1->ydata-profiling) (2024.1)\n",
            "Requirement already satisfied: joblib>=0.14.1 in /usr/local/lib/python3.10/dist-packages (from phik<0.13,>=0.11.1->ydata-profiling) (1.4.2)\n",
            "Requirement already satisfied: annotated-types>=0.4.0 in /usr/local/lib/python3.10/dist-packages (from pydantic>=2->ydata-profiling) (0.7.0)\n",
            "Requirement already satisfied: pydantic-core==2.18.4 in /usr/local/lib/python3.10/dist-packages (from pydantic>=2->ydata-profiling) (2.18.4)\n",
            "Requirement already satisfied: typing-extensions>=4.6.1 in /usr/local/lib/python3.10/dist-packages (from pydantic>=2->ydata-profiling) (4.12.2)\n",
            "Requirement already satisfied: charset-normalizer<4,>=2 in /usr/local/lib/python3.10/dist-packages (from requests<3,>=2.24.0->ydata-profiling) (3.3.2)\n",
            "Requirement already satisfied: idna<4,>=2.5 in /usr/local/lib/python3.10/dist-packages (from requests<3,>=2.24.0->ydata-profiling) (3.7)\n",
            "Requirement already satisfied: urllib3<3,>=1.21.1 in /usr/local/lib/python3.10/dist-packages (from requests<3,>=2.24.0->ydata-profiling) (2.0.7)\n",
            "Requirement already satisfied: certifi>=2017.4.17 in /usr/local/lib/python3.10/dist-packages (from requests<3,>=2.24.0->ydata-profiling) (2024.6.2)\n",
            "Requirement already satisfied: patsy>=0.5.6 in /usr/local/lib/python3.10/dist-packages (from statsmodels<1,>=0.13.2->ydata-profiling) (0.5.6)\n",
            "Requirement already satisfied: attrs>=19.3.0 in /usr/local/lib/python3.10/dist-packages (from visions[type_image_path]<0.7.7,>=0.7.5->ydata-profiling) (23.2.0)\n",
            "Requirement already satisfied: networkx>=2.4 in /usr/local/lib/python3.10/dist-packages (from visions[type_image_path]<0.7.7,>=0.7.5->ydata-profiling) (3.3)\n",
            "Requirement already satisfied: six in /usr/local/lib/python3.10/dist-packages (from patsy>=0.5.6->statsmodels<1,>=0.13.2->ydata-profiling) (1.16.0)\n"
          ]
        }
      ]
    },
    {
      "cell_type": "markdown",
      "source": [
        "# Checkpoint 1"
      ],
      "metadata": {
        "id": "gGbrwgAyaisd"
      }
    },
    {
      "cell_type": "code",
      "source": [
        "import pandas as pd\n",
        "from ydata_profiling import ProfileReport\n",
        "'''In this checkpoint, we are going to work on 'Education Attainment And Enrolment Around The World' dataset,\n",
        "provided by the World bank group.\n",
        "Dataset description : The dataset was derived from the original copy,\n",
        "which was published on the world bank website. The primary purpose of this database is to document and\n",
        "analyse patterns of educational attainment rates in different country around the world.'''\n",
        "\n",
        "df=pd.read_csv('/content/EDUCATION_ATTAINMENT.csv')\n",
        "print(df.head())"
      ],
      "metadata": {
        "colab": {
          "base_uri": "https://localhost:8080/"
        },
        "id": "fVQFtUMSaz8p",
        "outputId": "760b496b-d218-4673-af5e-5ff50508de18"
      },
      "execution_count": null,
      "outputs": [
        {
          "output_type": "stream",
          "name": "stdout",
          "text": [
            "   Ages[15-49]_All_grade1  Ages[15-49]_All_grade2  Ages[15-49]_All_grade3  \\\n",
            "0                0.669091                0.667214                0.651812   \n",
            "1                0.485879                0.480171                0.465510   \n",
            "2                0.516431                0.514233                0.502269   \n",
            "3                0.914294                0.903528                0.871690   \n",
            "4                0.876990                0.841497                0.762864   \n",
            "\n",
            "   Ages[20-29]_All_grade1  Ages[20-29]_All_grade2  Ages[20-29]_All_grade3  \\\n",
            "0                0.460899                0.458749                0.446925   \n",
            "1                0.267236                0.265735                0.257999   \n",
            "2                0.327775                0.326250                0.318003   \n",
            "3                0.853770                0.840792                0.810794   \n",
            "4                0.881265                0.854158                0.795892   \n",
            "\n",
            "   Ages[30-39]_All_grade1  Ages[30-39]_All_grade2  Ages[30-39]_All_grade3  \\\n",
            "0                0.292791                0.290929                0.279100   \n",
            "1                0.191279                0.188839                0.182693   \n",
            "2                0.221981                0.220472                0.214040   \n",
            "3                0.775725                0.757109                0.713569   \n",
            "4                0.883625                0.853812                0.805231   \n",
            "\n",
            "   Ages[40-49]_All_grade1  ...  Ages[20-29]_Female_grade2  \\\n",
            "0                0.250981  ...                   0.279915   \n",
            "1                0.187151  ...                   0.122435   \n",
            "2                0.205611  ...                   0.157744   \n",
            "3                0.786468  ...                   0.786506   \n",
            "4                0.747516  ...                   0.793379   \n",
            "\n",
            "   Ages[20-29]_Female_grade3  Ages[30-39]_Female_grade1  \\\n",
            "0                   0.272185                   0.111428   \n",
            "1                   0.117916                   0.084555   \n",
            "2                   0.151130                   0.086072   \n",
            "3                   0.746073                   0.699617   \n",
            "4                   0.712726                   0.808248   \n",
            "\n",
            "   Ages[30-39]_Female_grade2  Ages[30-39]_Female_grade3  \\\n",
            "0                   0.109101                   0.103791   \n",
            "1                   0.083607                   0.080518   \n",
            "2                   0.085138                   0.082124   \n",
            "3                   0.675786                   0.618058   \n",
            "4                   0.762858                   0.693267   \n",
            "\n",
            "   Ages[40-49]_Female_grade1  Ages[40-49]_Female_grade2  \\\n",
            "0                   0.098721                   0.097825   \n",
            "1                   0.065466                   0.065466   \n",
            "2                   0.073085                   0.073037   \n",
            "3                   0.687626                   0.648913   \n",
            "4                   0.559192                   0.516735   \n",
            "\n",
            "   Ages[40-49]_Female_grade3      country  year  \n",
            "0                   0.092263  Afghanistan  2015  \n",
            "1                   0.064012  Afghanistan  2007  \n",
            "2                   0.071735  Afghanistan  2010  \n",
            "3                   0.576818       Angola  2015  \n",
            "4                   0.429649       Angola  1999  \n",
            "\n",
            "[5 rows x 38 columns]\n"
          ]
        }
      ]
    },
    {
      "cell_type": "markdown",
      "source": [
        "# Tail"
      ],
      "metadata": {
        "id": "X6pKsiUFbIUQ"
      }
    },
    {
      "cell_type": "code",
      "source": [],
      "metadata": {
        "id": "yEWWiKH01A34"
      },
      "execution_count": null,
      "outputs": []
    },
    {
      "cell_type": "markdown",
      "source": [
        "# the columns"
      ],
      "metadata": {
        "id": "9GaHY3ZZqvoY"
      }
    },
    {
      "cell_type": "code",
      "source": [
        "print(df.columns)"
      ],
      "metadata": {
        "colab": {
          "base_uri": "https://localhost:8080/"
        },
        "id": "wGYriHXhq19X",
        "outputId": "d480f629-8f99-4035-c656-0c8b0887b21d"
      },
      "execution_count": null,
      "outputs": [
        {
          "output_type": "stream",
          "name": "stdout",
          "text": [
            "Index(['Ages[15-49]_All_grade1', 'Ages[15-49]_All_grade2',\n",
            "       'Ages[15-49]_All_grade3', 'Ages[20-29]_All_grade1',\n",
            "       'Ages[20-29]_All_grade2', 'Ages[20-29]_All_grade3',\n",
            "       'Ages[30-39]_All_grade1', 'Ages[30-39]_All_grade2',\n",
            "       'Ages[30-39]_All_grade3', 'Ages[40-49]_All_grade1',\n",
            "       'Ages[40-49]_All_grade2', 'Ages[40-49]_All_grade3',\n",
            "       'Ages[15-49]_Male_grade1', 'Ages[15-49]_Male_grade2',\n",
            "       'Ages[15-49]_Male_grade3', 'Ages[20-29]_Male_grade1',\n",
            "       'Ages[20-29]_Male_grade2', 'Ages[20-29]_Male_grade3',\n",
            "       'Ages[30-39]_Male_grade1', 'Ages[30-39]_Male_grade2',\n",
            "       'Ages[30-39]_Male_grade3', 'Ages[40-49]_Male_grade1',\n",
            "       'Ages[40-49]_Male_grade2', 'Ages[40-49]_Male_grade3',\n",
            "       'Ages[15-49]_Female_grade1', 'Ages[15-49]_Female_grade2',\n",
            "       'Ages[15-49]_Female_grade3', 'Ages[20-29]_Female_grade1',\n",
            "       'Ages[20-29]_Female_grade2', 'Ages[20-29]_Female_grade3',\n",
            "       'Ages[30-39]_Female_grade1', 'Ages[30-39]_Female_grade2',\n",
            "       'Ages[30-39]_Female_grade3', 'Ages[40-49]_Female_grade1',\n",
            "       'Ages[40-49]_Female_grade2', 'Ages[40-49]_Female_grade3', 'country',\n",
            "       'year'],\n",
            "      dtype='object')\n"
          ]
        }
      ]
    },
    {
      "cell_type": "markdown",
      "source": [
        "# Info"
      ],
      "metadata": {
        "id": "_IyEVxLgbRWf"
      }
    },
    {
      "cell_type": "code",
      "source": [
        "print(df.info())"
      ],
      "metadata": {
        "colab": {
          "base_uri": "https://localhost:8080/"
        },
        "id": "b-NorEhmbV3C",
        "outputId": "7a3455f4-48af-4b8f-8c6d-e1a02fa29508"
      },
      "execution_count": null,
      "outputs": [
        {
          "output_type": "stream",
          "name": "stdout",
          "text": [
            "<class 'pandas.core.frame.DataFrame'>\n",
            "RangeIndex: 626 entries, 0 to 625\n",
            "Data columns (total 38 columns):\n",
            " #   Column                     Non-Null Count  Dtype  \n",
            "---  ------                     --------------  -----  \n",
            " 0   Ages[15-49]_All_grade1     626 non-null    float64\n",
            " 1   Ages[15-49]_All_grade2     626 non-null    float64\n",
            " 2   Ages[15-49]_All_grade3     626 non-null    float64\n",
            " 3   Ages[20-29]_All_grade1     626 non-null    float64\n",
            " 4   Ages[20-29]_All_grade2     626 non-null    float64\n",
            " 5   Ages[20-29]_All_grade3     626 non-null    float64\n",
            " 6   Ages[30-39]_All_grade1     625 non-null    float64\n",
            " 7   Ages[30-39]_All_grade2     625 non-null    float64\n",
            " 8   Ages[30-39]_All_grade3     625 non-null    float64\n",
            " 9   Ages[40-49]_All_grade1     625 non-null    float64\n",
            " 10  Ages[40-49]_All_grade2     625 non-null    float64\n",
            " 11  Ages[40-49]_All_grade3     625 non-null    float64\n",
            " 12  Ages[15-49]_Male_grade1    626 non-null    float64\n",
            " 13  Ages[15-49]_Male_grade2    626 non-null    float64\n",
            " 14  Ages[15-49]_Male_grade3    626 non-null    float64\n",
            " 15  Ages[20-29]_Male_grade1    626 non-null    float64\n",
            " 16  Ages[20-29]_Male_grade2    626 non-null    float64\n",
            " 17  Ages[20-29]_Male_grade3    626 non-null    float64\n",
            " 18  Ages[30-39]_Male_grade1    625 non-null    float64\n",
            " 19  Ages[30-39]_Male_grade2    625 non-null    float64\n",
            " 20  Ages[30-39]_Male_grade3    625 non-null    float64\n",
            " 21  Ages[40-49]_Male_grade1    625 non-null    float64\n",
            " 22  Ages[40-49]_Male_grade2    625 non-null    float64\n",
            " 23  Ages[40-49]_Male_grade3    625 non-null    float64\n",
            " 24  Ages[15-49]_Female_grade1  626 non-null    float64\n",
            " 25  Ages[15-49]_Female_grade2  626 non-null    float64\n",
            " 26  Ages[15-49]_Female_grade3  626 non-null    float64\n",
            " 27  Ages[20-29]_Female_grade1  626 non-null    float64\n",
            " 28  Ages[20-29]_Female_grade2  626 non-null    float64\n",
            " 29  Ages[20-29]_Female_grade3  626 non-null    float64\n",
            " 30  Ages[30-39]_Female_grade1  625 non-null    float64\n",
            " 31  Ages[30-39]_Female_grade2  625 non-null    float64\n",
            " 32  Ages[30-39]_Female_grade3  625 non-null    float64\n",
            " 33  Ages[40-49]_Female_grade1  625 non-null    float64\n",
            " 34  Ages[40-49]_Female_grade2  625 non-null    float64\n",
            " 35  Ages[40-49]_Female_grade3  625 non-null    float64\n",
            " 36  country                    626 non-null    object \n",
            " 37  year                       626 non-null    int64  \n",
            "dtypes: float64(36), int64(1), object(1)\n",
            "memory usage: 186.0+ KB\n",
            "None\n"
          ]
        }
      ]
    },
    {
      "cell_type": "markdown",
      "source": [
        "# descriptions"
      ],
      "metadata": {
        "id": "nWfgig0vbeQh"
      }
    },
    {
      "cell_type": "code",
      "source": [
        "print(df.describe())"
      ],
      "metadata": {
        "colab": {
          "base_uri": "https://localhost:8080/"
        },
        "id": "-9fzCzo1bK2P",
        "outputId": "0c2c36ff-971a-4bd2-8dd6-4ae47851c0ce"
      },
      "execution_count": null,
      "outputs": [
        {
          "output_type": "stream",
          "name": "stdout",
          "text": [
            "       Ages[15-49]_All_grade1  Ages[15-49]_All_grade2  Ages[15-49]_All_grade3  \\\n",
            "count              626.000000              626.000000              626.000000   \n",
            "mean                 0.873886                0.861490                0.837509   \n",
            "std                  0.162624                0.166895                0.176555   \n",
            "min                  0.251917                0.244071                0.233274   \n",
            "25%                  0.831791                0.803131                0.757465   \n",
            "50%                  0.948926                0.935167                0.909587   \n",
            "75%                  0.984447                0.980112                0.971166   \n",
            "max                  1.000000                1.000000                1.000000   \n",
            "\n",
            "       Ages[20-29]_All_grade1  Ages[20-29]_All_grade2  Ages[20-29]_All_grade3  \\\n",
            "count              626.000000              626.000000              626.000000   \n",
            "mean                 0.823849                0.812738                0.789965   \n",
            "std                  0.200559                0.202587                0.207979   \n",
            "min                  0.079610                0.079610                0.079610   \n",
            "25%                  0.744915                0.723418                0.678869   \n",
            "50%                  0.910132                0.896568                0.864849   \n",
            "75%                  0.973777                0.967410                0.955625   \n",
            "max                  1.000000                0.999824                0.999264   \n",
            "\n",
            "       Ages[30-39]_All_grade1  Ages[30-39]_All_grade2  Ages[30-39]_All_grade3  \\\n",
            "count              625.000000              625.000000              625.000000   \n",
            "mean                 0.766171                0.752519                0.724980   \n",
            "std                  0.236563                0.237679                0.240681   \n",
            "min                  0.098059                0.091358                0.085236   \n",
            "25%                  0.639447                0.612464                0.561545   \n",
            "50%                  0.853861                0.831246                0.794898   \n",
            "75%                  0.959097                0.948259                0.922841   \n",
            "max                  1.000000                1.000000                1.000000   \n",
            "\n",
            "       Ages[40-49]_All_grade1  ...  Ages[20-29]_Female_grade1  \\\n",
            "count              625.000000  ...                 626.000000   \n",
            "mean                 0.709166  ...                   0.790544   \n",
            "std                  0.259998  ...                   0.236541   \n",
            "min                  0.036549  ...                   0.029662   \n",
            "25%                  0.527055  ...                   0.678596   \n",
            "50%                  0.785356  ...                   0.900869   \n",
            "75%                  0.937129  ...                   0.974514   \n",
            "max                  1.000000  ...                   1.000000   \n",
            "\n",
            "       Ages[20-29]_Female_grade2  Ages[20-29]_Female_grade3  \\\n",
            "count                 626.000000                 626.000000   \n",
            "mean                    0.778972                   0.755644   \n",
            "std                     0.238637                   0.243755   \n",
            "min                     0.029662                   0.029662   \n",
            "25%                     0.658977                   0.616380   \n",
            "50%                     0.887206                   0.853414   \n",
            "75%                     0.968962                   0.959495   \n",
            "max                     1.000000                   0.999777   \n",
            "\n",
            "       Ages[30-39]_Female_grade1  Ages[30-39]_Female_grade2  \\\n",
            "count                 625.000000                 625.000000   \n",
            "mean                    0.719020                   0.704342   \n",
            "std                     0.278133                   0.279059   \n",
            "min                     0.060930                   0.058368   \n",
            "25%                     0.534060                   0.508218   \n",
            "50%                     0.815823                   0.794049   \n",
            "75%                     0.958022                   0.946510   \n",
            "max                     1.000000                   1.000000   \n",
            "\n",
            "       Ages[30-39]_Female_grade3  Ages[40-49]_Female_grade1  \\\n",
            "count                 625.000000                 625.000000   \n",
            "mean                    0.675526                   0.646864   \n",
            "std                     0.281139                   0.302723   \n",
            "min                     0.053241                   0.022547   \n",
            "25%                     0.463656                   0.400638   \n",
            "50%                     0.749927                   0.719924   \n",
            "75%                     0.920707                   0.929507   \n",
            "max                     1.000000                   1.000000   \n",
            "\n",
            "       Ages[40-49]_Female_grade2  Ages[40-49]_Female_grade3         year  \n",
            "count                 625.000000                 625.000000   626.000000  \n",
            "mean                    0.628309                   0.593585  2005.049521  \n",
            "std                     0.302637                   0.301434     7.894248  \n",
            "min                     0.022022                   0.020972  1981.000000  \n",
            "25%                     0.372404                   0.330846  2000.000000  \n",
            "50%                     0.686513                   0.625602  2005.000000  \n",
            "75%                     0.914777                   0.875928  2011.000000  \n",
            "max                     1.000000                   1.000000  2020.000000  \n",
            "\n",
            "[8 rows x 37 columns]\n"
          ]
        }
      ]
    },
    {
      "cell_type": "code",
      "source": [],
      "metadata": {
        "id": "yyF-wbbXbjzL"
      },
      "execution_count": null,
      "outputs": []
    },
    {
      "cell_type": "markdown",
      "source": [
        "# Missing values check"
      ],
      "metadata": {
        "id": "vzxskDA_bvnn"
      }
    },
    {
      "cell_type": "code",
      "source": [
        "print(\"there are \")\n",
        "print(f\"{df.isnull().sum().sum()} missing values\")"
      ],
      "metadata": {
        "colab": {
          "base_uri": "https://localhost:8080/"
        },
        "id": "fomShzNeb1hB",
        "outputId": "b0eec97a-dd45-457e-bb05-7a443953b95c"
      },
      "execution_count": null,
      "outputs": [
        {
          "output_type": "stream",
          "name": "stdout",
          "text": [
            "there are \n",
            "18 missing values\n"
          ]
        }
      ]
    },
    {
      "cell_type": "markdown",
      "source": [
        "#geting the missing values column"
      ],
      "metadata": {
        "id": "N3eXfXiBcYxa"
      }
    },
    {
      "cell_type": "code",
      "source": [
        "columns=df.columns[df.isnull().any()]\n",
        "print(columns)"
      ],
      "metadata": {
        "id": "xYqFeF6VcefO",
        "colab": {
          "base_uri": "https://localhost:8080/"
        },
        "outputId": "2a27a0b1-294e-411d-92d7-b4576f8a02e8"
      },
      "execution_count": null,
      "outputs": [
        {
          "output_type": "stream",
          "name": "stdout",
          "text": [
            "Index(['Ages[30-39]_All_grade1', 'Ages[30-39]_All_grade2',\n",
            "       'Ages[30-39]_All_grade3', 'Ages[40-49]_All_grade1',\n",
            "       'Ages[40-49]_All_grade2', 'Ages[40-49]_All_grade3',\n",
            "       'Ages[30-39]_Male_grade1', 'Ages[30-39]_Male_grade2',\n",
            "       'Ages[30-39]_Male_grade3', 'Ages[40-49]_Male_grade1',\n",
            "       'Ages[40-49]_Male_grade2', 'Ages[40-49]_Male_grade3',\n",
            "       'Ages[30-39]_Female_grade1', 'Ages[30-39]_Female_grade2',\n",
            "       'Ages[30-39]_Female_grade3', 'Ages[40-49]_Female_grade1',\n",
            "       'Ages[40-49]_Female_grade2', 'Ages[40-49]_Female_grade3'],\n",
            "      dtype='object')\n"
          ]
        }
      ]
    },
    {
      "cell_type": "code",
      "source": [
        "# drop the  empty rows  becuase I want to get the data set is too large and droping a\n",
        "df.dropna(inplace=True)"
      ],
      "metadata": {
        "id": "iEIWX5H_mn5I"
      },
      "execution_count": null,
      "outputs": []
    },
    {
      "cell_type": "markdown",
      "source": [
        "# view the columns"
      ],
      "metadata": {
        "id": "L3xws-H7dfSU"
      }
    },
    {
      "cell_type": "code",
      "source": [
        "print(df.columns)"
      ],
      "metadata": {
        "colab": {
          "base_uri": "https://localhost:8080/"
        },
        "id": "NbmGUpztdkbJ",
        "outputId": "a18502ae-7e2d-42ae-c5e5-c2224e8fe513"
      },
      "execution_count": null,
      "outputs": [
        {
          "output_type": "stream",
          "name": "stdout",
          "text": [
            "Index(['Ages[15-19]_All_grade1', 'Ages[15-19]_All_grade2',\n",
            "       'Ages[15-19]_All_grade3', 'Ages[20-29]_All_grade1',\n",
            "       'Ages[20-29]_All_grade2', 'Ages[20-29]_All_grade3',\n",
            "       'Ages[30-39]_All_grade1', 'Ages[30-39]_All_grade2',\n",
            "       'Ages[30-39]_All_grade3', 'Ages[40-49]_All_grade1',\n",
            "       'Ages[40-49]_All_grade2', 'Ages[40-49]_All_grade3',\n",
            "       'Ages[15-49]_Male_grade1', 'Ages[15-49]_Male_grade2',\n",
            "       'Ages[15-49]_Male_grade3', 'Ages[20-29]_Male_grade1',\n",
            "       'Ages[20-29]_Male_grade2', 'Ages[20-29]_Male_grade3',\n",
            "       'Ages[30-39]_Male_grade1', 'Ages[30-39]_Male_grade2',\n",
            "       'Ages[30-39]_Male_grade3', 'Ages[40-49]_Male_grade1',\n",
            "       'Ages[40-49]_Male_grade2', 'Ages[40-49]_Male_grade3',\n",
            "       'Ages[15-49]_Female_grade1', 'Ages[15-49]_Female_grade2',\n",
            "       'Ages[15-49]_Female_grade3', 'Ages[20-29]_Female_grade1',\n",
            "       'Ages[20-29]_Female_grade2', 'Ages[20-29]_Female_grade3',\n",
            "       'Ages[30-39]_Female_grade1', 'Ages[30-39]_Female_grade2',\n",
            "       'Ages[30-39]_Female_grade3', 'Ages[40-49]_Female_grade1',\n",
            "       'Ages[40-49]_Female_grade2', 'Ages[40-49]_Female_grade3', 'country',\n",
            "       'year'],\n",
            "      dtype='object')\n"
          ]
        }
      ]
    },
    {
      "cell_type": "markdown",
      "source": [
        "#the first column is (15-49) instead of 15-19"
      ],
      "metadata": {
        "id": "PPUO9HV9d117"
      }
    },
    {
      "cell_type": "code",
      "source": [
        "rename={'Ages[15-49]_All_grade1':'Ages[15-19]_All_grade1','Ages[15-49]_All_grade2':'Ages[15-19]_All_grade2','Ages[15-49]_All_grade3':'Ages[15-19]_All_grade3'}\n",
        "df.rename(columns=rename,inplace=True)\n",
        "print(df.columns)"
      ],
      "metadata": {
        "colab": {
          "base_uri": "https://localhost:8080/"
        },
        "id": "zeoID1OOd2Vm",
        "outputId": "ca5be680-cb4c-471c-9c95-9329a3c6be18"
      },
      "execution_count": null,
      "outputs": [
        {
          "output_type": "stream",
          "name": "stdout",
          "text": [
            "Index(['Ages[15-19]_All_grade1', 'Ages[15-19]_All_grade2',\n",
            "       'Ages[15-19]_All_grade3', 'Ages[20-29]_All_grade1',\n",
            "       'Ages[20-29]_All_grade2', 'Ages[20-29]_All_grade3',\n",
            "       'Ages[30-39]_All_grade1', 'Ages[30-39]_All_grade2',\n",
            "       'Ages[30-39]_All_grade3', 'Ages[40-49]_All_grade1',\n",
            "       'Ages[40-49]_All_grade2', 'Ages[40-49]_All_grade3',\n",
            "       'Ages[15-49]_Male_grade1', 'Ages[15-49]_Male_grade2',\n",
            "       'Ages[15-49]_Male_grade3', 'Ages[20-29]_Male_grade1',\n",
            "       'Ages[20-29]_Male_grade2', 'Ages[20-29]_Male_grade3',\n",
            "       'Ages[30-39]_Male_grade1', 'Ages[30-39]_Male_grade2',\n",
            "       'Ages[30-39]_Male_grade3', 'Ages[40-49]_Male_grade1',\n",
            "       'Ages[40-49]_Male_grade2', 'Ages[40-49]_Male_grade3',\n",
            "       'Ages[15-49]_Female_grade1', 'Ages[15-49]_Female_grade2',\n",
            "       'Ages[15-49]_Female_grade3', 'Ages[20-29]_Female_grade1',\n",
            "       'Ages[20-29]_Female_grade2', 'Ages[20-29]_Female_grade3',\n",
            "       'Ages[30-39]_Female_grade1', 'Ages[30-39]_Female_grade2',\n",
            "       'Ages[30-39]_Female_grade3', 'Ages[40-49]_Female_grade1',\n",
            "       'Ages[40-49]_Female_grade2', 'Ages[40-49]_Female_grade3', 'country',\n",
            "       'year'],\n",
            "      dtype='object')\n"
          ]
        }
      ]
    },
    {
      "cell_type": "markdown",
      "source": [],
      "metadata": {
        "id": "7RJY93CqeVbj"
      }
    },
    {
      "cell_type": "markdown",
      "source": [
        "# Ydata"
      ],
      "metadata": {
        "id": "n1-VIrGe1Q6h"
      }
    },
    {
      "cell_type": "code",
      "source": [
        "profile_report=ProfileReport(df)\n",
        "profile_report.to_file('Sumarry of profile.html')\n",
        "profile_report.to_notebook_iframe()"
      ],
      "metadata": {
        "colab": {
          "base_uri": "https://localhost:8080/",
          "height": 200,
          "referenced_widgets": [
            "0b799c745b544ed9aaabcc1c0c43cfca",
            "b788e06d45c54dad955ac192319c6d49",
            "ddeb1fbe7bef4fd9a07172ad72935ff1",
            "dfa48d5c49474fe48c5764d68cf0c0e9",
            "ed9b1aae66d54009b6b70b89245bc991",
            "de6f6ae2718846c987df39052f349dfb",
            "33bb6f3552fd4c67890e576699ed3d73",
            "3a2536d6a3434017b66de43d40dd69b7",
            "078a7c4893c940a199123b1ef417f541",
            "0c44da2ec3ff4b358f748f8634218627",
            "a0f1cb7f6b9142e9a61f97ea05c37c8b",
            "ed10edb8391049f5806388d3cf8c936d",
            "dc33da56034b43439d9dd8e1b1440bb2",
            "b21a7a9f5a1f4f6dbeb6999c71a58281",
            "cc3ba2abaf5a40699387df50f8a5fba6",
            "172c6bae337e4db396fc190e61e724b3",
            "b9bc23b3932c494e9b3a7d89a684f820",
            "d0cd847b971743078a60b59b6aa0d52e",
            "6c62ca52d7654963a2f0b95f71c1f2e0",
            "4d4070936a1d461e891a67656fb90480",
            "9cfb7534a24549acbdd0bd36ab2ce2f4",
            "d2ad6b59b7d94093a02e3dc286abc0b6",
            "709d446ccfd04be8a6b37ddbb754e2f5",
            "7a56fa675981405ebe062154a2f94e73",
            "341084870ad44007b4f233ce970c90f8",
            "f138cebea22245f48931f52616d66e1e",
            "ee006ce381954f54ae58bfde11b32312",
            "96dafac65782407fb105beca59a3bf84",
            "c1f3a80e88a148fa96b7796dd18253e0",
            "a75c77c91f914da986cc999507fc6e7c",
            "945f17af644643c3be71a6502443f6c1",
            "9877d62268d84f9cb8d740292835240e",
            "24322f994efb4a4ba37df69d9e2a47a7",
            "c4daa7e984964ee59790b8bccb343b69",
            "a4a6dbe26c4642b4a1b5a4dbdf49d29c",
            "dfb36ec050024565838a8e681de53314",
            "826223cef15745afa5eb4c9943f5f61b",
            "5fa1c308b5ee420caedd196df8d6c7c6",
            "c795dd116d7649ce82a953591874bcae",
            "0f86710800e74d7aaf6ad638397cae16",
            "4f8307887eff43e195892a669288ed15",
            "8d18e280f2da4296b124a92e935e3a53",
            "5c3e4e6631fe4e95b652c54f606dd3a2",
            "b9eb0219d81e472db46f60e37672b6a6"
          ]
        },
        "id": "B_DvJMI-1YtB",
        "outputId": "b3640dce-01cf-4c44-f42c-4da4bdd89fcf"
      },
      "execution_count": null,
      "outputs": [
        {
          "output_type": "stream",
          "name": "stderr",
          "text": [
            "/usr/local/lib/python3.10/dist-packages/ydata_profiling/profile_report.py:363: UserWarning: Try running command: 'pip install --upgrade Pillow' to avoid ValueError\n",
            "  warnings.warn(\n"
          ]
        },
        {
          "output_type": "display_data",
          "data": {
            "text/plain": [
              "Summarize dataset:   0%|          | 0/5 [00:00<?, ?it/s]"
            ],
            "application/vnd.jupyter.widget-view+json": {
              "version_major": 2,
              "version_minor": 0,
              "model_id": "0b799c745b544ed9aaabcc1c0c43cfca"
            }
          },
          "metadata": {}
        },
        {
          "output_type": "display_data",
          "data": {
            "text/plain": [
              "Generate report structure:   0%|          | 0/1 [00:00<?, ?it/s]"
            ],
            "application/vnd.jupyter.widget-view+json": {
              "version_major": 2,
              "version_minor": 0,
              "model_id": "ed10edb8391049f5806388d3cf8c936d"
            }
          },
          "metadata": {}
        },
        {
          "output_type": "display_data",
          "data": {
            "text/plain": [
              "Render HTML:   0%|          | 0/1 [00:00<?, ?it/s]"
            ],
            "application/vnd.jupyter.widget-view+json": {
              "version_major": 2,
              "version_minor": 0,
              "model_id": "709d446ccfd04be8a6b37ddbb754e2f5"
            }
          },
          "metadata": {}
        },
        {
          "output_type": "display_data",
          "data": {
            "text/plain": [
              "Export report to file:   0%|          | 0/1 [00:00<?, ?it/s]"
            ],
            "application/vnd.jupyter.widget-view+json": {
              "version_major": 2,
              "version_minor": 0,
              "model_id": "c4daa7e984964ee59790b8bccb343b69"
            }
          },
          "metadata": {}
        }
      ]
    },
    {
      "cell_type": "markdown",
      "source": [
        "# Dealing with duplicates"
      ],
      "metadata": {
        "id": "MVnFVxVS1wby"
      }
    },
    {
      "cell_type": "code",
      "source": [
        "# having relised that there is a duplicate in the rows\n",
        "print(df.duplicated())\n"
      ],
      "metadata": {
        "id": "aVSmWC5I1xKp",
        "outputId": "52ac5353-27c6-44a3-91ac-64840ecc7e35",
        "colab": {
          "base_uri": "https://localhost:8080/"
        }
      },
      "execution_count": null,
      "outputs": [
        {
          "output_type": "stream",
          "name": "stdout",
          "text": [
            "0      False\n",
            "1      False\n",
            "2      False\n",
            "3      False\n",
            "4      False\n",
            "       ...  \n",
            "621    False\n",
            "622    False\n",
            "623    False\n",
            "624    False\n",
            "625    False\n",
            "Length: 625, dtype: bool\n"
          ]
        }
      ]
    },
    {
      "cell_type": "code",
      "source": [
        "# drop the duplicated row\n",
        "df.drop_duplicates(inplace=True)"
      ],
      "metadata": {
        "id": "uF6dGmpY3IWD"
      },
      "execution_count": null,
      "outputs": []
    }
  ]
}